{
  "nbformat": 4,
  "nbformat_minor": 0,
  "metadata": {
    "colab": {
      "name": "final Copy of voffprediction.ipynb",
      "provenance": [],
      "collapsed_sections": []
    },
    "kernelspec": {
      "name": "python3",
      "display_name": "Python 3"
    },
    "accelerator": "GPU"
  },
  "cells": [
    {
      "cell_type": "code",
      "metadata": {
        "colab_type": "code",
        "id": "xhzjtkc_ySUg",
        "colab": {}
      },
      "source": [
        "import pandas as pd\n",
        "import numpy as np"
      ],
      "execution_count": 0,
      "outputs": []
    },
    {
      "cell_type": "code",
      "metadata": {
        "id": "vbgkhF6oyS2V",
        "colab_type": "code",
        "colab": {}
      },
      "source": [
        "data = pd.read_table(\"/content/drive/My Drive/IDVG_AllVoff.txt\") \n",
        "\t# print(data)\n",
        "table_data = np.asarray(data)"
      ],
      "execution_count": 0,
      "outputs": []
    },
    {
      "cell_type": "code",
      "metadata": {
        "id": "di5kA_11yTKu",
        "colab_type": "code",
        "colab": {}
      },
      "source": [
        "new_table = np.zeros((16441, 3))\n",
        "\n",
        "for vo in range(401):\n",
        "\tfor i in range(41):\n",
        "\t\tnew_table[41*vo + i][0], new_table[41*vo +i][1] = -4.00 + vo*0.01, (-4.0 + i*0.1) \n",
        "\t\tnew_table[41*vo + i][2] = table_data[i][vo + 1]\n",
        "\n",
        "\t# print(new_table)\n",
        "new_table[:,1] = np.around(new_table[:,1], decimals=1)\n",
        "df = pd.DataFrame(new_table)\n",
        "\t# print(df)\n",
        "df.rename(columns={0: 'voff'}, inplace=True)\n",
        "df.rename(columns={1: 'vg'}, inplace=True)\n",
        "df.rename(columns={2: 'ids'}, inplace=True)"
      ],
      "execution_count": 0,
      "outputs": []
    },
    {
      "cell_type": "code",
      "metadata": {
        "id": "Na1PCHQjyTZW",
        "colab_type": "code",
        "colab": {}
      },
      "source": [
        "# df"
      ],
      "execution_count": 0,
      "outputs": []
    },
    {
      "cell_type": "code",
      "metadata": {
        "id": "4dZrwShWyTku",
        "colab_type": "code",
        "outputId": "3fcb3eb0-28a4-449b-bd4e-8e0f8a8fa5d0",
        "colab": {
          "base_uri": "https://localhost:8080/",
          "height": 34
        }
      },
      "source": [
        "# Use seaborn for pairplot\n",
        "!pip install -q seaborn\n",
        "\n",
        "# Use some functions from tensorflow_docs\n",
        "!pip install -q git+https://github.com/tensorflow/docs"
      ],
      "execution_count": 0,
      "outputs": [
        {
          "output_type": "stream",
          "text": [
            "  Building wheel for tensorflow-docs (setup.py) ... \u001b[?25l\u001b[?25hdone\n"
          ],
          "name": "stdout"
        }
      ]
    },
    {
      "cell_type": "code",
      "metadata": {
        "id": "HhmWxURtyU8m",
        "colab_type": "code",
        "outputId": "fcc93422-b2a3-4f40-9cd2-5ee6de432c8c",
        "colab": {
          "base_uri": "https://localhost:8080/",
          "height": 51
        }
      },
      "source": [
        "import pathlib\n",
        "import matplotlib.pyplot as plt\n",
        "import seaborn as sns"
      ],
      "execution_count": 0,
      "outputs": [
        {
          "output_type": "stream",
          "text": [
            "/usr/local/lib/python3.6/dist-packages/statsmodels/tools/_testing.py:19: FutureWarning: pandas.util.testing is deprecated. Use the functions in the public API at pandas.testing instead.\n",
            "  import pandas.util.testing as tm\n"
          ],
          "name": "stderr"
        }
      ]
    },
    {
      "cell_type": "code",
      "metadata": {
        "id": "MPbFwegmyVIO",
        "colab_type": "code",
        "outputId": "0310397a-4e13-4b49-de2b-8b0d06f6b453",
        "colab": {
          "base_uri": "https://localhost:8080/",
          "height": 34
        }
      },
      "source": [
        "import tensorflow as tf\n",
        "\n",
        "from tensorflow import keras\n",
        "from tensorflow.keras import layers\n",
        "\n",
        "print(tf.__version__)"
      ],
      "execution_count": 0,
      "outputs": [
        {
          "output_type": "stream",
          "text": [
            "2.2.0-rc2\n"
          ],
          "name": "stdout"
        }
      ]
    },
    {
      "cell_type": "code",
      "metadata": {
        "id": "rsLFhHLjyVRY",
        "colab_type": "code",
        "colab": {}
      },
      "source": [
        "import tensorflow_docs as tfdocs\n",
        "import tensorflow_docs.plots\n",
        "import tensorflow_docs.modeling"
      ],
      "execution_count": 0,
      "outputs": []
    },
    {
      "cell_type": "code",
      "metadata": {
        "id": "t7fDuYyGyVav",
        "colab_type": "code",
        "outputId": "229f0255-0018-4f7b-a9b4-435074d7871f",
        "colab": {
          "base_uri": "https://localhost:8080/",
          "height": 204
        }
      },
      "source": [
        "dataset = df.copy()\n",
        "dataset.tail()"
      ],
      "execution_count": 0,
      "outputs": [
        {
          "output_type": "execute_result",
          "data": {
            "text/html": [
              "<div>\n",
              "<style scoped>\n",
              "    .dataframe tbody tr th:only-of-type {\n",
              "        vertical-align: middle;\n",
              "    }\n",
              "\n",
              "    .dataframe tbody tr th {\n",
              "        vertical-align: top;\n",
              "    }\n",
              "\n",
              "    .dataframe thead th {\n",
              "        text-align: right;\n",
              "    }\n",
              "</style>\n",
              "<table border=\"1\" class=\"dataframe\">\n",
              "  <thead>\n",
              "    <tr style=\"text-align: right;\">\n",
              "      <th></th>\n",
              "      <th>voff</th>\n",
              "      <th>vg</th>\n",
              "      <th>ids</th>\n",
              "    </tr>\n",
              "  </thead>\n",
              "  <tbody>\n",
              "    <tr>\n",
              "      <th>16436</th>\n",
              "      <td>0.0</td>\n",
              "      <td>-0.4</td>\n",
              "      <td>0.000454</td>\n",
              "    </tr>\n",
              "    <tr>\n",
              "      <th>16437</th>\n",
              "      <td>0.0</td>\n",
              "      <td>-0.3</td>\n",
              "      <td>0.005877</td>\n",
              "    </tr>\n",
              "    <tr>\n",
              "      <th>16438</th>\n",
              "      <td>0.0</td>\n",
              "      <td>-0.2</td>\n",
              "      <td>0.062972</td>\n",
              "    </tr>\n",
              "    <tr>\n",
              "      <th>16439</th>\n",
              "      <td>0.0</td>\n",
              "      <td>-0.1</td>\n",
              "      <td>0.377698</td>\n",
              "    </tr>\n",
              "    <tr>\n",
              "      <th>16440</th>\n",
              "      <td>0.0</td>\n",
              "      <td>0.0</td>\n",
              "      <td>1.139400</td>\n",
              "    </tr>\n",
              "  </tbody>\n",
              "</table>\n",
              "</div>"
            ],
            "text/plain": [
              "       voff   vg       ids\n",
              "16436   0.0 -0.4  0.000454\n",
              "16437   0.0 -0.3  0.005877\n",
              "16438   0.0 -0.2  0.062972\n",
              "16439   0.0 -0.1  0.377698\n",
              "16440   0.0  0.0  1.139400"
            ]
          },
          "metadata": {
            "tags": []
          },
          "execution_count": 9
        }
      ]
    },
    {
      "cell_type": "code",
      "metadata": {
        "id": "bV7RmbSfyVuw",
        "colab_type": "code",
        "colab": {}
      },
      "source": [
        "train_dataset = dataset.sample(frac=0.8,random_state=0)\n",
        "test_dataset = dataset.drop(train_dataset.index)\n",
        "# train_dataset\n",
        "# test_dataset"
      ],
      "execution_count": 0,
      "outputs": []
    },
    {
      "cell_type": "code",
      "metadata": {
        "id": "Wknm_J_ZyWCe",
        "colab_type": "code",
        "outputId": "250d8882-b400-4c2c-d266-3f30cdd29f0b",
        "colab": {
          "base_uri": "https://localhost:8080/",
          "height": 111
        }
      },
      "source": [
        "train_stats = train_dataset.describe()\n",
        "train_stats.pop(\"voff\")\n",
        "train_stats = train_stats.transpose()\n",
        "train_stats"
      ],
      "execution_count": 0,
      "outputs": [
        {
          "output_type": "execute_result",
          "data": {
            "text/html": [
              "<div>\n",
              "<style scoped>\n",
              "    .dataframe tbody tr th:only-of-type {\n",
              "        vertical-align: middle;\n",
              "    }\n",
              "\n",
              "    .dataframe tbody tr th {\n",
              "        vertical-align: top;\n",
              "    }\n",
              "\n",
              "    .dataframe thead th {\n",
              "        text-align: right;\n",
              "    }\n",
              "</style>\n",
              "<table border=\"1\" class=\"dataframe\">\n",
              "  <thead>\n",
              "    <tr style=\"text-align: right;\">\n",
              "      <th></th>\n",
              "      <th>count</th>\n",
              "      <th>mean</th>\n",
              "      <th>std</th>\n",
              "      <th>min</th>\n",
              "      <th>25%</th>\n",
              "      <th>50%</th>\n",
              "      <th>75%</th>\n",
              "      <th>max</th>\n",
              "    </tr>\n",
              "  </thead>\n",
              "  <tbody>\n",
              "    <tr>\n",
              "      <th>vg</th>\n",
              "      <td>13153.0</td>\n",
              "      <td>-2.007078</td>\n",
              "      <td>1.182340</td>\n",
              "      <td>-4.000000e+00</td>\n",
              "      <td>-3.000000e+00</td>\n",
              "      <td>-2.000000</td>\n",
              "      <td>-1.0000</td>\n",
              "      <td>0.0000</td>\n",
              "    </tr>\n",
              "    <tr>\n",
              "      <th>ids</th>\n",
              "      <td>13153.0</td>\n",
              "      <td>13.143457</td>\n",
              "      <td>19.055539</td>\n",
              "      <td>5.022900e-11</td>\n",
              "      <td>5.085140e-11</td>\n",
              "      <td>0.951051</td>\n",
              "      <td>22.3692</td>\n",
              "      <td>82.7905</td>\n",
              "    </tr>\n",
              "  </tbody>\n",
              "</table>\n",
              "</div>"
            ],
            "text/plain": [
              "       count       mean        std  ...       50%      75%      max\n",
              "vg   13153.0  -2.007078   1.182340  ... -2.000000  -1.0000   0.0000\n",
              "ids  13153.0  13.143457  19.055539  ...  0.951051  22.3692  82.7905\n",
              "\n",
              "[2 rows x 8 columns]"
            ]
          },
          "metadata": {
            "tags": []
          },
          "execution_count": 11
        }
      ]
    },
    {
      "cell_type": "code",
      "metadata": {
        "id": "2HIAQ7J6yWN2",
        "colab_type": "code",
        "colab": {}
      },
      "source": [
        "train_labels = train_dataset.pop('voff')\n",
        "test_labels = test_dataset.pop('voff')"
      ],
      "execution_count": 0,
      "outputs": []
    },
    {
      "cell_type": "code",
      "metadata": {
        "id": "3nArI5voyWh2",
        "colab_type": "code",
        "colab": {}
      },
      "source": [
        "def build_model():\n",
        "  model = keras.Sequential([\n",
        "    layers.Dense(64, activation='relu', input_shape=[len(train_dataset.keys())]),\n",
        "    layers.Dense(64, activation='relu'),\n",
        "    layers.Dense(64, activation='relu'),\n",
        "    layers.Dense(1)\n",
        "  ])\n",
        "\n",
        "  optimizer = tf.keras.optimizers.RMSprop(0.001)\n",
        "\n",
        "  model.compile(loss='mse',\n",
        "                optimizer=optimizer,\n",
        "                metrics=['mae', 'mse', 'accoracy'])\n",
        "  return model"
      ],
      "execution_count": 0,
      "outputs": []
    },
    {
      "cell_type": "code",
      "metadata": {
        "id": "Thm1JtX_yWsW",
        "colab_type": "code",
        "colab": {}
      },
      "source": [
        "model = build_model()"
      ],
      "execution_count": 0,
      "outputs": []
    },
    {
      "cell_type": "code",
      "metadata": {
        "id": "Un2SZaUkyW22",
        "colab_type": "code",
        "outputId": "d45bd1a6-14cc-4b1a-fbf6-6df4b031cf3a",
        "colab": {
          "base_uri": "https://localhost:8080/",
          "height": 289
        }
      },
      "source": [
        "model.summary()"
      ],
      "execution_count": 0,
      "outputs": [
        {
          "output_type": "stream",
          "text": [
            "Model: \"sequential_1\"\n",
            "_________________________________________________________________\n",
            "Layer (type)                 Output Shape              Param #   \n",
            "=================================================================\n",
            "dense_5 (Dense)              (None, 64)                192       \n",
            "_________________________________________________________________\n",
            "dense_6 (Dense)              (None, 64)                4160      \n",
            "_________________________________________________________________\n",
            "dense_7 (Dense)              (None, 64)                4160      \n",
            "_________________________________________________________________\n",
            "dense_8 (Dense)              (None, 1)                 65        \n",
            "=================================================================\n",
            "Total params: 8,577\n",
            "Trainable params: 8,577\n",
            "Non-trainable params: 0\n",
            "_________________________________________________________________\n"
          ],
          "name": "stdout"
        }
      ]
    },
    {
      "cell_type": "code",
      "metadata": {
        "id": "U-wEIrmjyXAd",
        "colab_type": "code",
        "outputId": "1c9b8dd7-f332-4e50-afd2-4925edf22d95",
        "colab": {
          "base_uri": "https://localhost:8080/",
          "height": 187
        }
      },
      "source": [
        "example_batch = train_dataset[:10]\n",
        "example_result =np.around(model.predict(example_batch), decimals=2)\n",
        "example_result"
      ],
      "execution_count": 0,
      "outputs": [
        {
          "output_type": "execute_result",
          "data": {
            "text/plain": [
              "array([[ 0.1 ],\n",
              "       [ 0.13],\n",
              "       [-2.36],\n",
              "       [ 0.05],\n",
              "       [-2.6 ],\n",
              "       [ 0.13],\n",
              "       [ 0.11],\n",
              "       [ 0.04],\n",
              "       [ 0.17],\n",
              "       [ 0.04]], dtype=float32)"
            ]
          },
          "metadata": {
            "tags": []
          },
          "execution_count": 26
        }
      ]
    },
    {
      "cell_type": "code",
      "metadata": {
        "id": "xEd57BgTyXKo",
        "colab_type": "code",
        "outputId": "25dedf70-bbf2-452c-db73-810217b37f1a",
        "colab": {
          "base_uri": "https://localhost:8080/",
          "height": 374
        }
      },
      "source": [
        "EPOCHS = 1000\n",
        "\n",
        "history = model.fit(\n",
        "  train_dataset, train_labels,\n",
        "  epochs=EPOCHS, validation_split = 0.2, verbose=0,\n",
        "  callbacks=[tfdocs.modeling.EpochDots()])"
      ],
      "execution_count": 0,
      "outputs": [
        {
          "output_type": "stream",
          "text": [
            "\n",
            "Epoch: 0, loss:0.5373,  mae:0.5449,  mse:0.5374,  val_loss:0.3443,  val_mae:0.3827,  val_mse:0.3433,  \n",
            "....................................................................................................\n",
            "Epoch: 100, loss:0.2455,  mae:0.2862,  mse:0.2456,  val_loss:0.2531,  val_mae:0.3189,  val_mse:0.2514,  \n",
            "....................................................................................................\n",
            "Epoch: 200, loss:0.2367,  mae:0.2773,  mse:0.2368,  val_loss:0.2415,  val_mae:0.2761,  val_mse:0.2400,  \n",
            "....................................................................................................\n",
            "Epoch: 300, loss:0.2318,  mae:0.2726,  mse:0.2318,  val_loss:0.2447,  val_mae:0.2969,  val_mse:0.2417,  \n",
            "....................................................................................................\n",
            "Epoch: 400, loss:0.2279,  mae:0.2706,  mse:0.2279,  val_loss:0.2347,  val_mae:0.2631,  val_mse:0.2331,  \n",
            "....................................................................................................\n",
            "Epoch: 500, loss:0.2282,  mae:0.2661,  mse:0.2282,  val_loss:0.2260,  val_mae:0.2733,  val_mse:0.2240,  \n",
            "....................................................................................................\n",
            "Epoch: 600, loss:0.2244,  mae:0.2632,  mse:0.2243,  val_loss:0.2282,  val_mae:0.2556,  val_mse:0.2259,  \n",
            "....................................................................................................\n",
            "Epoch: 700, loss:0.2215,  mae:0.2640,  mse:0.2216,  val_loss:0.2443,  val_mae:0.2885,  val_mse:0.2437,  \n",
            "....................................................................................................\n",
            "Epoch: 800, loss:0.2220,  mae:0.2653,  mse:0.2219,  val_loss:0.2236,  val_mae:0.2610,  val_mse:0.2221,  \n",
            "....................................................................................................\n",
            "Epoch: 900, loss:0.2203,  mae:0.2663,  mse:0.2203,  val_loss:0.2595,  val_mae:0.2737,  val_mse:0.2551,  \n",
            "...................................................................................................."
          ],
          "name": "stdout"
        }
      ]
    },
    {
      "cell_type": "code",
      "metadata": {
        "id": "4JzGLe4DyXVe",
        "colab_type": "code",
        "outputId": "8407e4dc-ca46-4fb1-827e-cdb6f979222e",
        "colab": {
          "base_uri": "https://localhost:8080/",
          "height": 204
        }
      },
      "source": [
        "hist = pd.DataFrame(history.history)\n",
        "hist['epoch'] = history.epoch\n",
        "hist.tail()"
      ],
      "execution_count": 0,
      "outputs": [
        {
          "output_type": "execute_result",
          "data": {
            "text/html": [
              "<div>\n",
              "<style scoped>\n",
              "    .dataframe tbody tr th:only-of-type {\n",
              "        vertical-align: middle;\n",
              "    }\n",
              "\n",
              "    .dataframe tbody tr th {\n",
              "        vertical-align: top;\n",
              "    }\n",
              "\n",
              "    .dataframe thead th {\n",
              "        text-align: right;\n",
              "    }\n",
              "</style>\n",
              "<table border=\"1\" class=\"dataframe\">\n",
              "  <thead>\n",
              "    <tr style=\"text-align: right;\">\n",
              "      <th></th>\n",
              "      <th>loss</th>\n",
              "      <th>mae</th>\n",
              "      <th>mse</th>\n",
              "      <th>val_loss</th>\n",
              "      <th>val_mae</th>\n",
              "      <th>val_mse</th>\n",
              "      <th>epoch</th>\n",
              "    </tr>\n",
              "  </thead>\n",
              "  <tbody>\n",
              "    <tr>\n",
              "      <th>995</th>\n",
              "      <td>0.223281</td>\n",
              "      <td>0.267908</td>\n",
              "      <td>0.223312</td>\n",
              "      <td>0.231410</td>\n",
              "      <td>0.279055</td>\n",
              "      <td>0.230427</td>\n",
              "      <td>995</td>\n",
              "    </tr>\n",
              "    <tr>\n",
              "      <th>996</th>\n",
              "      <td>0.225630</td>\n",
              "      <td>0.268698</td>\n",
              "      <td>0.225678</td>\n",
              "      <td>0.218473</td>\n",
              "      <td>0.247432</td>\n",
              "      <td>0.216243</td>\n",
              "      <td>996</td>\n",
              "    </tr>\n",
              "    <tr>\n",
              "      <th>997</th>\n",
              "      <td>0.222071</td>\n",
              "      <td>0.266760</td>\n",
              "      <td>0.222088</td>\n",
              "      <td>0.224276</td>\n",
              "      <td>0.261799</td>\n",
              "      <td>0.222740</td>\n",
              "      <td>997</td>\n",
              "    </tr>\n",
              "    <tr>\n",
              "      <th>998</th>\n",
              "      <td>0.222641</td>\n",
              "      <td>0.266861</td>\n",
              "      <td>0.222653</td>\n",
              "      <td>0.286674</td>\n",
              "      <td>0.288278</td>\n",
              "      <td>0.281275</td>\n",
              "      <td>998</td>\n",
              "    </tr>\n",
              "    <tr>\n",
              "      <th>999</th>\n",
              "      <td>0.221775</td>\n",
              "      <td>0.266437</td>\n",
              "      <td>0.221720</td>\n",
              "      <td>0.229845</td>\n",
              "      <td>0.260260</td>\n",
              "      <td>0.226464</td>\n",
              "      <td>999</td>\n",
              "    </tr>\n",
              "  </tbody>\n",
              "</table>\n",
              "</div>"
            ],
            "text/plain": [
              "         loss       mae       mse  val_loss   val_mae   val_mse  epoch\n",
              "995  0.223281  0.267908  0.223312  0.231410  0.279055  0.230427    995\n",
              "996  0.225630  0.268698  0.225678  0.218473  0.247432  0.216243    996\n",
              "997  0.222071  0.266760  0.222088  0.224276  0.261799  0.222740    997\n",
              "998  0.222641  0.266861  0.222653  0.286674  0.288278  0.281275    998\n",
              "999  0.221775  0.266437  0.221720  0.229845  0.260260  0.226464    999"
            ]
          },
          "metadata": {
            "tags": []
          },
          "execution_count": 28
        }
      ]
    },
    {
      "cell_type": "code",
      "metadata": {
        "id": "Q5FJ6NtV97Kj",
        "colab_type": "code",
        "colab": {}
      },
      "source": [
        "test_predictions = model.predict(test_dataset).flatten()\n",
        "\n",
        "# a = plt.axes(aspect='equal')\n",
        "# plt.scatter(test_labels, test_predictions)\n",
        "# plt.xlabel('True Values voff')\n",
        "# plt.ylabel('Predictions voff')\n",
        "# lims = [0, 50]\n",
        "# plt.xlim(lims)\n",
        "# plt.ylim(lims)\n",
        "# _ = plt.plot(lims, lims)\n"
      ],
      "execution_count": 0,
      "outputs": []
    },
    {
      "cell_type": "code",
      "metadata": {
        "id": "XEqD2nB397Sk",
        "colab_type": "code",
        "colab": {}
      },
      "source": [
        "# error = test_predictions - test_labels\n",
        "# plt.hist(error, bins = 25)\n",
        "# plt.xlabel(\"Prediction Error voff\")\n",
        "# _ = plt.ylabel(\"Count\")"
      ],
      "execution_count": 0,
      "outputs": []
    },
    {
      "cell_type": "code",
      "metadata": {
        "id": "9cvz2icq97aF",
        "colab_type": "code",
        "outputId": "6822cc42-866d-4c56-b250-7cceca541c87",
        "colab": {
          "base_uri": "https://localhost:8080/",
          "height": 51
        }
      },
      "source": [
        "test_predictions\n"
      ],
      "execution_count": 0,
      "outputs": [
        {
          "output_type": "execute_result",
          "data": {
            "text/plain": [
              "array([-4.0674334 , -4.0456743 , -4.0334487 , ..., -0.9640277 ,\n",
              "       -0.4965704 , -0.03533971], dtype=float32)"
            ]
          },
          "metadata": {
            "tags": []
          },
          "execution_count": 31
        }
      ]
    },
    {
      "cell_type": "code",
      "metadata": {
        "id": "FbCOSIvc97rs",
        "colab_type": "code",
        "outputId": "146e8235-e6be-4e00-ed2a-4e5dff0c04fa",
        "colab": {
          "base_uri": "https://localhost:8080/",
          "height": 34
        }
      },
      "source": [
        "x = [-3.6]\n",
        "y = [7.131340]\n",
        "df = pd.DataFrame(x)\n",
        "df['ids'] = y\n",
        "\n",
        "# voff : -4.00\n",
        "df.rename(columns={0: 'vg'}, inplace=True)\n",
        "df\n",
        "test_voff = model.predict(df).flatten()\n",
        "test_voff"
      ],
      "execution_count": 0,
      "outputs": [
        {
          "output_type": "execute_result",
          "data": {
            "text/plain": [
              "array([-4.011836], dtype=float32)"
            ]
          },
          "metadata": {
            "tags": []
          },
          "execution_count": 32
        }
      ]
    },
    {
      "cell_type": "code",
      "metadata": {
        "id": "GoIb1VOf970t",
        "colab_type": "code",
        "colab": {}
      },
      "source": [
        ""
      ],
      "execution_count": 0,
      "outputs": []
    },
    {
      "cell_type": "code",
      "metadata": {
        "id": "MJOFtBtj97-l",
        "colab_type": "code",
        "colab": {}
      },
      "source": [
        ""
      ],
      "execution_count": 0,
      "outputs": []
    },
    {
      "cell_type": "code",
      "metadata": {
        "id": "lyxhmWeM98I8",
        "colab_type": "code",
        "colab": {}
      },
      "source": [
        ""
      ],
      "execution_count": 0,
      "outputs": []
    },
    {
      "cell_type": "code",
      "metadata": {
        "id": "eBfkKjF798Rs",
        "colab_type": "code",
        "colab": {}
      },
      "source": [
        ""
      ],
      "execution_count": 0,
      "outputs": []
    },
    {
      "cell_type": "code",
      "metadata": {
        "id": "oOmWY9uS98bE",
        "colab_type": "code",
        "colab": {}
      },
      "source": [
        ""
      ],
      "execution_count": 0,
      "outputs": []
    }
  ]
}